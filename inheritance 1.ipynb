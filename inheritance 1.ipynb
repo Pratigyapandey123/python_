{
 "cells": [
  {
   "cell_type": "code",
   "execution_count": 1,
   "id": "cdac783d",
   "metadata": {},
   "outputs": [],
   "source": [
    "class A:\n",
    "    pass\n",
    "class B(A):\n",
    "    pass\n",
    "obj = B()"
   ]
  },
  {
   "cell_type": "code",
   "execution_count": 5,
   "id": "4af7ee55",
   "metadata": {},
   "outputs": [
    {
     "name": "stdout",
     "output_type": "stream",
     "text": [
      "Enter name = Ram\n",
      "Enter addres = Ktm\n",
      "Hello I am Ram. I am from Ktm\n",
      "Ram\n",
      "Ktm\n"
     ]
    }
   ],
   "source": [
    "class Info:                                 #parent class\n",
    "    def __init__(self):\n",
    "        self.name = input(\"Enter name = \")\n",
    "        self.add = input(\"Enter addres = \")\n",
    "        \n",
    "        def info(self):\n",
    "            print(self.name,self.add)\n",
    "class Data(Info):                           #child class\n",
    "    def data(self):\n",
    "        print(f\"Hello I am {self.name}. I am from {self.add}\")\n",
    "        \n",
    "obj = Data()\n",
    "obj.data()\n",
    "print(obj.name)\n",
    "print(obj.add)\n"
   ]
  },
  {
   "cell_type": "code",
   "execution_count": 7,
   "id": "d712da13",
   "metadata": {},
   "outputs": [
    {
     "name": "stdout",
     "output_type": "stream",
     "text": [
      "Enter name = Ram\n",
      "Enter address = Palpa\n",
      "Hello I am Ram. I am from Palpa\n",
      "Ram\n",
      "Palpa\n",
      "Ram Palpa\n"
     ]
    }
   ],
   "source": [
    "class Info:\n",
    "    def __init__(self,name,add):\n",
    "        self.name = name\n",
    "        self.add = add\n",
    "        \n",
    "    def info(self):\n",
    "        print(self.name,self.add)\n",
    "        \n",
    "class Data(Info):\n",
    "    def data(self):\n",
    "        print(f\"Hello I am {self.name}. I am from {self.add}\")\n",
    "\n",
    "name = input(\"Enter name = \")\n",
    "add = input(\"Enter address = \")\n",
    "obj = Data(name,add)\n",
    "obj.data()\n",
    "print(obj.name)\n",
    "print(obj.add)\n",
    "obj.info()"
   ]
  },
  {
   "cell_type": "code",
   "execution_count": 11,
   "id": "0206b327",
   "metadata": {},
   "outputs": [
    {
     "name": "stdout",
     "output_type": "stream",
     "text": [
      "Enter name = Ram\n",
      "Enter address = ASam\n"
     ]
    },
    {
     "ename": "AttributeError",
     "evalue": "'Data' object has no attribute 'data'",
     "output_type": "error",
     "traceback": [
      "\u001b[1;31m---------------------------------------------------------------------------\u001b[0m",
      "\u001b[1;31mAttributeError\u001b[0m                            Traceback (most recent call last)",
      "Input \u001b[1;32mIn [11]\u001b[0m, in \u001b[0;36m<cell line: 16>\u001b[1;34m()\u001b[0m\n\u001b[0;32m     14\u001b[0m add \u001b[38;5;241m=\u001b[39m \u001b[38;5;28minput\u001b[39m(\u001b[38;5;124m\"\u001b[39m\u001b[38;5;124mEnter address = \u001b[39m\u001b[38;5;124m\"\u001b[39m)\n\u001b[0;32m     15\u001b[0m obj \u001b[38;5;241m=\u001b[39m Data(name,add)\n\u001b[1;32m---> 16\u001b[0m \u001b[43mobj\u001b[49m\u001b[38;5;241;43m.\u001b[39;49m\u001b[43mdata\u001b[49m()\n\u001b[0;32m     17\u001b[0m \u001b[38;5;28mprint\u001b[39m(obj\u001b[38;5;241m.\u001b[39mname)\n\u001b[0;32m     18\u001b[0m \u001b[38;5;28mprint\u001b[39m(obj\u001b[38;5;241m.\u001b[39madd)\n",
      "\u001b[1;31mAttributeError\u001b[0m: 'Data' object has no attribute 'data'"
     ]
    }
   ],
   "source": [
    "class Info:\n",
    "    def __init__(self,add):\n",
    "        self.add = add\n",
    "def info(self):\n",
    "        print(self.add)\n",
    "\n",
    "class Data(Info):\n",
    "    def __init__(self,name,add):\n",
    "        self.name = name\n",
    "        Info.__init__(self,add)\n",
    "        def data(self):\n",
    "            print(f\"Hello I am {self.name}. I am from {self.add}\")\n",
    "name = input(\"Enter name = \")\n",
    "add = input(\"Enter address = \")\n",
    "obj = Data(name,add)\n",
    "obj.data()\n",
    "print(obj.name)\n",
    "print(obj.add)\n"
   ]
  },
  {
   "cell_type": "code",
   "execution_count": 13,
   "id": "190527f9",
   "metadata": {},
   "outputs": [],
   "source": [
    "class A:\n",
    "    pass\n",
    "class B(A):\n",
    "    pass\n",
    "class C(B):\n",
    "    pass\n",
    "obj = C()"
   ]
  },
  {
   "cell_type": "code",
   "execution_count": 14,
   "id": "311109e1",
   "metadata": {},
   "outputs": [],
   "source": [
    "class A:\n",
    "    pass\n",
    "class B:\n",
    "    pass\n",
    "class C(A,B):\n",
    "    pass\n",
    "obj = C()"
   ]
  },
  {
   "cell_type": "code",
   "execution_count": 19,
   "id": "60072694",
   "metadata": {},
   "outputs": [
    {
     "name": "stdout",
     "output_type": "stream",
     "text": [
      "Enter name = Ritesh\n",
      "Enter add = Palpa\n",
      "Enter age = 23\n",
      "Hello I am Ritesh. I am from Palpa. I am 23\n",
      "Ritesh\n",
      "Palpa\n",
      "23\n"
     ]
    }
   ],
   "source": [
    "class Contact:\n",
    "    def __init__(self,age):\n",
    "        self.age = age\n",
    "class Info(Contact):\n",
    "    def __init__(self,add,age):\n",
    "        self.add = add\n",
    "        Contact.__init__(self,age)\n",
    "class Data(Info):\n",
    "    def __init__(self,name,add,age):\n",
    "        self.name = name\n",
    "        Info.__init__(self,add,age)\n",
    "    def data(self):\n",
    "        print(f\"Hello I am {self.name}. I am from {self.add}. I am {self.age}\")\n",
    "\n",
    "name = input(\"Enter name = \")\n",
    "add = input(\"Enter add = \")\n",
    "age = input(\"Enter age = \")\n",
    "\n",
    "obj = Data(name,add,age)\n",
    "obj.data()\n",
    "print(obj.name)\n",
    "print(obj.add)\n",
    "print(obj.age)\n",
    "\n",
    "\n",
    "        "
   ]
  },
  {
   "cell_type": "code",
   "execution_count": 20,
   "id": "09dc58d0",
   "metadata": {},
   "outputs": [
    {
     "name": "stdout",
     "output_type": "stream",
     "text": [
      "Enter name = Ram\n",
      "Enter add = Dolakha\n",
      "Enter age = 56\n",
      "Hello I am Ram. I am from Dolakha. I am 56\n",
      "Ram\n",
      "Dolakha\n",
      "56\n"
     ]
    }
   ],
   "source": [
    "class Contact:\n",
    "    def __init__(self,age):\n",
    "        self.age = age\n",
    "class Info:\n",
    "    def __init__(self,add):\n",
    "        self.add = add\n",
    "class Data(Info,Contact):\n",
    "    def __init__(self,name,add,age):\n",
    "        self.name = name\n",
    "        Info.__init__(self,add)\n",
    "        Contact.__init__(self,age)\n",
    "\n",
    "    def data(self):\n",
    "        print(f\"Hello I am {self.name}. I am from {self.add}. I am {self.age}\")\n",
    "\n",
    "name = input(\"Enter name = \")\n",
    "add = input(\"Enter add = \")\n",
    "age = input(\"Enter age = \")\n",
    "\n",
    "obj = Data(name,add,age)\n",
    "obj.data()\n",
    "print(obj.name)\n",
    "print(obj.add)\n",
    "print(obj.age)\n",
    "\n"
   ]
  },
  {
   "cell_type": "code",
   "execution_count": null,
   "id": "5a9f0d9b",
   "metadata": {},
   "outputs": [],
   "source": []
  },
  {
   "cell_type": "code",
   "execution_count": null,
   "id": "de92dfed",
   "metadata": {},
   "outputs": [],
   "source": []
  },
  {
   "cell_type": "code",
   "execution_count": null,
   "id": "8c59e466",
   "metadata": {},
   "outputs": [],
   "source": []
  },
  {
   "cell_type": "code",
   "execution_count": null,
   "id": "fe6ea3e4",
   "metadata": {},
   "outputs": [],
   "source": []
  },
  {
   "cell_type": "code",
   "execution_count": null,
   "id": "238f9b70",
   "metadata": {},
   "outputs": [],
   "source": []
  }
 ],
 "metadata": {
  "kernelspec": {
   "display_name": "Python 3 (ipykernel)",
   "language": "python",
   "name": "python3"
  },
  "language_info": {
   "codemirror_mode": {
    "name": "ipython",
    "version": 3
   },
   "file_extension": ".py",
   "mimetype": "text/x-python",
   "name": "python",
   "nbconvert_exporter": "python",
   "pygments_lexer": "ipython3",
   "version": "3.9.12"
  }
 },
 "nbformat": 4,
 "nbformat_minor": 5
}

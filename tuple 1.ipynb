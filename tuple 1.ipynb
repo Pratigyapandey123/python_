{
 "cells": [
  {
   "cell_type": "code",
   "execution_count": null,
   "id": "bf0cab79",
   "metadata": {},
   "outputs": [],
   "source": [
    "# tuple\n",
    "# -Indexed\n",
    "# -Ordered\n",
    "# -Multiple and duplicate data\n",
    "# -Mutable"
   ]
  },
  {
   "cell_type": "code",
   "execution_count": null,
   "id": "5f3bd92a",
   "metadata": {},
   "outputs": [],
   "source": [
    "a = tuple()"
   ]
  },
  {
   "cell_type": "code",
   "execution_count": 1,
   "id": "058d1b6f",
   "metadata": {},
   "outputs": [
    {
     "name": "stdout",
     "output_type": "stream",
     "text": [
      "(1, 2, 3, 4, 5)\n",
      "<class 'tuple'>\n"
     ]
    }
   ],
   "source": [
    "a = (1,2,3,4,5)\n",
    "print(a)\n",
    "print(type(a))"
   ]
  },
  {
   "cell_type": "code",
   "execution_count": 2,
   "id": "db620a5a",
   "metadata": {},
   "outputs": [
    {
     "name": "stdout",
     "output_type": "stream",
     "text": [
      "1\n"
     ]
    }
   ],
   "source": [
    "a = (1,2,3,4,5)\n",
    "print(a[0])"
   ]
  },
  {
   "cell_type": "code",
   "execution_count": 3,
   "id": "8ec66151",
   "metadata": {},
   "outputs": [
    {
     "name": "stdout",
     "output_type": "stream",
     "text": [
      "(1, 2, 3, 4, 5, 6, 7, 8)\n"
     ]
    }
   ],
   "source": [
    "a = (1,2,3,4)\n",
    "b = (5,6,7,8)\n",
    "c = a+b\n",
    "print(c)"
   ]
  },
  {
   "cell_type": "code",
   "execution_count": null,
   "id": "1862cba0",
   "metadata": {},
   "outputs": [],
   "source": [
    "# No append(), extend(),insert()\n",
    "# No del, remove(), pop()\n",
    "# No sort()\n"
   ]
  },
  {
   "cell_type": "code",
   "execution_count": 4,
   "id": "57ca4b52",
   "metadata": {},
   "outputs": [
    {
     "data": {
      "text/plain": [
       "[1, 2, 4, 5, 6, 7]"
      ]
     },
     "execution_count": 4,
     "metadata": {},
     "output_type": "execute_result"
    }
   ],
   "source": [
    "a = (1,2,3,4,5,6,7)\n",
    "a = list(a)\n",
    "del a[2]\n",
    "a"
   ]
  },
  {
   "cell_type": "code",
   "execution_count": 6,
   "id": "09d2e9f2",
   "metadata": {},
   "outputs": [
    {
     "data": {
      "text/plain": [
       "(1, 2, 4, 5, 6, 7)"
      ]
     },
     "execution_count": 6,
     "metadata": {},
     "output_type": "execute_result"
    }
   ],
   "source": [
    "a = tuple(a)\n",
    "a"
   ]
  },
  {
   "cell_type": "code",
   "execution_count": 7,
   "id": "b6b89f77",
   "metadata": {},
   "outputs": [
    {
     "data": {
      "text/plain": [
       "('Apple', 'Ball')"
      ]
     },
     "execution_count": 7,
     "metadata": {},
     "output_type": "execute_result"
    }
   ],
   "source": [
    "a = ()\n",
    "b = (\"Apple\",)\n",
    "c = (\"Ball\",)\n",
    "a = a+b+c\n",
    "a"
   ]
  },
  {
   "cell_type": "code",
   "execution_count": 9,
   "id": "c6e0dd7f",
   "metadata": {},
   "outputs": [
    {
     "name": "stdout",
     "output_type": "stream",
     "text": [
      "Enter n = 4\n",
      "Enter a = 1\n",
      "Enter a = 3\n",
      "Enter a = 4\n",
      "Enter a = 6\n",
      "(1, 3, 4, 6)\n"
     ]
    }
   ],
   "source": [
    "x = ()\n",
    "n = int(input(\"Enter n = \"))\n",
    "for i in range(n):\n",
    "    a = int(input(\"Enter a = \"))\n",
    "    x = x+(a,)\n",
    "print(x)"
   ]
  },
  {
   "cell_type": "code",
   "execution_count": null,
   "id": "33c98cbb",
   "metadata": {},
   "outputs": [],
   "source": [
    "# max() min() sum()\n",
    "# for loop"
   ]
  },
  {
   "cell_type": "code",
   "execution_count": 10,
   "id": "c5e69763",
   "metadata": {},
   "outputs": [
    {
     "name": "stdout",
     "output_type": "stream",
     "text": [
      "1\n",
      "2\n",
      "3\n",
      "4\n",
      "5\n",
      "6\n",
      "7\n"
     ]
    }
   ],
   "source": [
    "a = (1,2,3,4,5,6,7)\n",
    "for i in a:\n",
    "    print(i)"
   ]
  },
  {
   "cell_type": "code",
   "execution_count": 11,
   "id": "4e4cb3d4",
   "metadata": {},
   "outputs": [
    {
     "name": "stdout",
     "output_type": "stream",
     "text": [
      "yes\n"
     ]
    }
   ],
   "source": [
    "a = ('Apple','Ball','Cat')\n",
    "if \"Cat\" in a:\n",
    "    print(\"yes\")"
   ]
  },
  {
   "cell_type": "code",
   "execution_count": null,
   "id": "4df4bead",
   "metadata": {},
   "outputs": [],
   "source": [
    "# list--> string = No"
   ]
  },
  {
   "cell_type": "code",
   "execution_count": 12,
   "id": "fc136db8",
   "metadata": {},
   "outputs": [
    {
     "data": {
      "text/plain": [
       "['A', 'p', 'p', 'l', 'e']"
      ]
     },
     "execution_count": 12,
     "metadata": {},
     "output_type": "execute_result"
    }
   ],
   "source": [
    "a = \"Apple\"\n",
    "list(a)"
   ]
  },
  {
   "cell_type": "code",
   "execution_count": 13,
   "id": "adc4eb02",
   "metadata": {},
   "outputs": [
    {
     "data": {
      "text/plain": [
       "('A', 'p', 'p', 'l', 'e')"
      ]
     },
     "execution_count": 13,
     "metadata": {},
     "output_type": "execute_result"
    }
   ],
   "source": [
    "a = \"Apple\"\n",
    "tuple(a)"
   ]
  },
  {
   "cell_type": "code",
   "execution_count": null,
   "id": "1fecd685",
   "metadata": {},
   "outputs": [],
   "source": [
    "# tuple inside tuple\n",
    "a = ((1,2,3),\n",
    "    (4,5,6),\n",
    "    (7,8,9))\n"
   ]
  },
  {
   "cell_type": "code",
   "execution_count": 14,
   "id": "04baebb5",
   "metadata": {},
   "outputs": [
    {
     "name": "stdout",
     "output_type": "stream",
     "text": [
      "Enter n = 2\n",
      "enter name: Ram\n",
      "Enter age: 22\n",
      "enter address: Dang\n",
      "enter name: Sita\n",
      "Enter age: 43\n",
      "enter address: Palpa\n",
      "(('Ram', 22, 'Dang'), ('Sita', 43, 'Palpa'))\n"
     ]
    }
   ],
   "source": [
    "info = ()\n",
    "n = int(input(\"Enter n = \"))\n",
    "for i in range(n):\n",
    "    name = input(\"enter name: \")\n",
    "    age = int(input(\"Enter age: \"))\n",
    "    add = input(\"enter address: \")\n",
    "    data = (name,age,add)\n",
    "    info = info+(data,)\n",
    "print(info)"
   ]
  },
  {
   "cell_type": "code",
   "execution_count": 15,
   "id": "96bd75a8",
   "metadata": {},
   "outputs": [
    {
     "data": {
      "text/plain": [
       "[('Ram', 22, 'Dang'), ('Sita', 43, 'Palpa')]"
      ]
     },
     "execution_count": 15,
     "metadata": {},
     "output_type": "execute_result"
    }
   ],
   "source": [
    "a = (('Ram', 22, 'Dang'), ('Sita', 43, 'Palpa'))\n",
    "b = list(a)\n",
    "b"
   ]
  },
  {
   "cell_type": "code",
   "execution_count": 16,
   "id": "36e5da1c",
   "metadata": {},
   "outputs": [
    {
     "data": {
      "text/plain": [
       "[('Ram', 22, 'Dang'), ('Sita', 43, 'Palpa'), ('Hari', 54, 'Kathmandu')]"
      ]
     },
     "execution_count": 16,
     "metadata": {},
     "output_type": "execute_result"
    }
   ],
   "source": [
    "#append()\n",
    "a = [('Ram', 22, 'Dang'), ('Sita', 43, 'Palpa')]\n",
    "a.append((\"Hari\",54,\"Kathmandu\"))\n",
    "a"
   ]
  },
  {
   "cell_type": "code",
   "execution_count": 17,
   "id": "3172e952",
   "metadata": {},
   "outputs": [
    {
     "ename": "AttributeError",
     "evalue": "'tuple' object has no attribute 'append'",
     "output_type": "error",
     "traceback": [
      "\u001b[1;31m---------------------------------------------------------------------------\u001b[0m",
      "\u001b[1;31mAttributeError\u001b[0m                            Traceback (most recent call last)",
      "Input \u001b[1;32mIn [17]\u001b[0m, in \u001b[0;36m<cell line: 2>\u001b[1;34m()\u001b[0m\n\u001b[0;32m      1\u001b[0m a \u001b[38;5;241m=\u001b[39m [(\u001b[38;5;124m'\u001b[39m\u001b[38;5;124mRam\u001b[39m\u001b[38;5;124m'\u001b[39m, \u001b[38;5;241m22\u001b[39m, \u001b[38;5;124m'\u001b[39m\u001b[38;5;124mDang\u001b[39m\u001b[38;5;124m'\u001b[39m), (\u001b[38;5;124m'\u001b[39m\u001b[38;5;124mSita\u001b[39m\u001b[38;5;124m'\u001b[39m, \u001b[38;5;241m43\u001b[39m, \u001b[38;5;124m'\u001b[39m\u001b[38;5;124mPalpa\u001b[39m\u001b[38;5;124m'\u001b[39m)]\n\u001b[1;32m----> 2\u001b[0m \u001b[43ma\u001b[49m\u001b[43m[\u001b[49m\u001b[38;5;241;43m0\u001b[39;49m\u001b[43m]\u001b[49m\u001b[38;5;241;43m.\u001b[39;49m\u001b[43mappend\u001b[49m(\u001b[38;5;124m\"\u001b[39m\u001b[38;5;124mShyaaam\u001b[39m\u001b[38;5;124m\"\u001b[39m)\n",
      "\u001b[1;31mAttributeError\u001b[0m: 'tuple' object has no attribute 'append'"
     ]
    }
   ],
   "source": [
    "a = [('Ram', 22, 'Dang'), ('Sita', 43, 'Palpa')]\n",
    "a[0].append(\"Shyaaam\")"
   ]
  },
  {
   "cell_type": "code",
   "execution_count": 18,
   "id": "6efcb58d",
   "metadata": {},
   "outputs": [
    {
     "data": {
      "text/plain": [
       "[('Sita', 43, 'Palpa')]"
      ]
     },
     "execution_count": 18,
     "metadata": {},
     "output_type": "execute_result"
    }
   ],
   "source": [
    "a = [('Ram', 22, 'Dang'), ('Sita', 43, 'Palpa')]\n",
    "del a[0]\n",
    "a"
   ]
  },
  {
   "cell_type": "code",
   "execution_count": 19,
   "id": "441f0212",
   "metadata": {},
   "outputs": [
    {
     "ename": "TypeError",
     "evalue": "'tuple' object doesn't support item deletion",
     "output_type": "error",
     "traceback": [
      "\u001b[1;31m---------------------------------------------------------------------------\u001b[0m",
      "\u001b[1;31mTypeError\u001b[0m                                 Traceback (most recent call last)",
      "Input \u001b[1;32mIn [19]\u001b[0m, in \u001b[0;36m<cell line: 2>\u001b[1;34m()\u001b[0m\n\u001b[0;32m      1\u001b[0m a \u001b[38;5;241m=\u001b[39m [(\u001b[38;5;124m'\u001b[39m\u001b[38;5;124mRam\u001b[39m\u001b[38;5;124m'\u001b[39m, \u001b[38;5;241m22\u001b[39m, \u001b[38;5;124m'\u001b[39m\u001b[38;5;124mDang\u001b[39m\u001b[38;5;124m'\u001b[39m), (\u001b[38;5;124m'\u001b[39m\u001b[38;5;124mSita\u001b[39m\u001b[38;5;124m'\u001b[39m, \u001b[38;5;241m43\u001b[39m, \u001b[38;5;124m'\u001b[39m\u001b[38;5;124mPalpa\u001b[39m\u001b[38;5;124m'\u001b[39m)]\n\u001b[1;32m----> 2\u001b[0m \u001b[38;5;28;01mdel\u001b[39;00m a[\u001b[38;5;241m0\u001b[39m][\u001b[38;5;241m1\u001b[39m]\n\u001b[0;32m      3\u001b[0m a\n",
      "\u001b[1;31mTypeError\u001b[0m: 'tuple' object doesn't support item deletion"
     ]
    }
   ],
   "source": [
    "a = [('Ram', 22, 'Dang'), ('Sita', 43, 'Palpa')]\n",
    "del a[0][1]\n",
    "a\n",
    "# since a[0][1] is element of tuple"
   ]
  },
  {
   "cell_type": "code",
   "execution_count": 20,
   "id": "8318c661",
   "metadata": {},
   "outputs": [
    {
     "data": {
      "text/plain": [
       "['Ram', 22, 'Dang']"
      ]
     },
     "execution_count": 20,
     "metadata": {},
     "output_type": "execute_result"
    }
   ],
   "source": [
    "# list inside tuple\n",
    "a = (['Ram', 22, 'Dang'], ['Sita', 43, 'Palpa'])\n",
    "a[0]\n"
   ]
  },
  {
   "cell_type": "code",
   "execution_count": 21,
   "id": "de5e62b1",
   "metadata": {},
   "outputs": [
    {
     "data": {
      "text/plain": [
       "(['Ram', 22, 'Dang', 9876454563], ['Sita', 43, 'Palpa', 9876543212])"
      ]
     },
     "execution_count": 21,
     "metadata": {},
     "output_type": "execute_result"
    }
   ],
   "source": [
    "a = (['Ram', 22, 'Dang'], ['Sita', 43, 'Palpa'])\n",
    "a[0].append(9876454563)\n",
    "a[1].append(9876543212)\n",
    "a"
   ]
  },
  {
   "cell_type": "code",
   "execution_count": 22,
   "id": "76ae4f39",
   "metadata": {},
   "outputs": [
    {
     "data": {
      "text/plain": [
       "([], ['Sita', 43, 'Palpa'])"
      ]
     },
     "execution_count": 22,
     "metadata": {},
     "output_type": "execute_result"
    }
   ],
   "source": [
    "# clear()\n",
    "a = (['Ram', 22, 'Dang'], ['Sita', 43, 'Palpa'])\n",
    "a[0].clear()\n",
    "a"
   ]
  },
  {
   "cell_type": "code",
   "execution_count": 23,
   "id": "892bd58b",
   "metadata": {},
   "outputs": [
    {
     "data": {
      "text/plain": [
       "([22, 'Dang'], ['Sita', 43, 'Palpa'])"
      ]
     },
     "execution_count": 23,
     "metadata": {},
     "output_type": "execute_result"
    }
   ],
   "source": [
    "a = (['Ram', 22, 'Dang'], ['Sita', 43, 'Palpa'])\n",
    "del a[0][0]\n",
    "a"
   ]
  },
  {
   "cell_type": "code",
   "execution_count": null,
   "id": "3d24b6df",
   "metadata": {},
   "outputs": [],
   "source": [
    "00"
   ]
  },
  {
   "cell_type": "code",
   "execution_count": null,
   "id": "e1423b56",
   "metadata": {},
   "outputs": [],
   "source": []
  }
 ],
 "metadata": {
  "kernelspec": {
   "display_name": "Python 3 (ipykernel)",
   "language": "python",
   "name": "python3"
  },
  "language_info": {
   "codemirror_mode": {
    "name": "ipython",
    "version": 3
   },
   "file_extension": ".py",
   "mimetype": "text/x-python",
   "name": "python",
   "nbconvert_exporter": "python",
   "pygments_lexer": "ipython3",
   "version": "3.9.12"
  }
 },
 "nbformat": 4,
 "nbformat_minor": 5
}

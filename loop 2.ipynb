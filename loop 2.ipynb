{
 "cells": [
  {
   "cell_type": "code",
   "execution_count": null,
   "id": "4d8d625d",
   "metadata": {},
   "outputs": [],
   "source": [
    "#while loop\n",
    "#<conditions>:\n",
    "    #<operations>"
   ]
  },
  {
   "cell_type": "code",
   "execution_count": 2,
   "id": "913cb16e",
   "metadata": {
    "scrolled": true
   },
   "outputs": [
    {
     "name": "stdout",
     "output_type": "stream",
     "text": [
      "0 Hi\n",
      "1 Hi\n",
      "2 Hi\n",
      "3 Hi\n",
      "4 Hi\n"
     ]
    }
   ],
   "source": [
    "a = 0\n",
    "while a<5:\n",
    "    print(a,\"Hi\")\n",
    "    a=a+1"
   ]
  },
  {
   "cell_type": "markdown",
   "id": "edc2795b",
   "metadata": {},
   "source": []
  },
  {
   "cell_type": "code",
   "execution_count": 3,
   "id": "5141583b",
   "metadata": {},
   "outputs": [
    {
     "name": "stdout",
     "output_type": "stream",
     "text": [
      "Enter n = 4\n",
      "4 * 1 = 4\n",
      "4 * 2 = 8\n",
      "4 * 3 = 12\n",
      "4 * 4 = 16\n",
      "4 * 5 = 20\n",
      "4 * 6 = 24\n",
      "4 * 7 = 28\n",
      "4 * 8 = 32\n",
      "4 * 9 = 36\n",
      "4 * 10 = 40\n"
     ]
    }
   ],
   "source": [
    "i = 1\n",
    "n = int(input(\"Enter n = \"))\n",
    "while i<=10:\n",
    "    print(n,\"*\",i,\"=\",n*i)\n",
    "    i = i+1"
   ]
  },
  {
   "cell_type": "code",
   "execution_count": 5,
   "id": "7a3f5858",
   "metadata": {},
   "outputs": [
    {
     "name": "stdout",
     "output_type": "stream",
     "text": [
      "10\n",
      "9\n",
      "8\n",
      "7\n",
      "6\n",
      "5\n",
      "4\n",
      "3\n",
      "2\n",
      "1\n",
      "0\n"
     ]
    }
   ],
   "source": [
    "i = 10\n",
    "while i>=0:\n",
    "    print(i)\n",
    "    i = i-1"
   ]
  },
  {
   "cell_type": "code",
   "execution_count": 7,
   "id": "12fce013",
   "metadata": {},
   "outputs": [
    {
     "name": "stdout",
     "output_type": "stream",
     "text": [
      "Enter n=4\n",
      "Enter x=33\n",
      "Enter x=22\n",
      "Enter x=32\n",
      "Enter x=32\n",
      "119\n"
     ]
    }
   ],
   "source": [
    "s=0\n",
    "i=0\n",
    "n = int(input(\"Enter n=\"))\n",
    "while i<n:\n",
    "    x = int(input(\"Enter x=\"))\n",
    "    s = s+x\n",
    "    i=i+1\n",
    "    \n",
    "print(s)"
   ]
  },
  {
   "cell_type": "markdown",
   "id": "176095b1",
   "metadata": {},
   "source": []
  },
  {
   "cell_type": "code",
   "execution_count": 8,
   "id": "f87979e9",
   "metadata": {},
   "outputs": [
    {
     "name": "stdout",
     "output_type": "stream",
     "text": [
      "P\n",
      "y\n",
      "t\n",
      "h\n",
      "o\n",
      "n\n"
     ]
    }
   ],
   "source": [
    "i = 0\n",
    "a = \"Python\"\n",
    "while i<len(a):\n",
    "    print(a[i])\n",
    "    i = i+1"
   ]
  },
  {
   "cell_type": "code",
   "execution_count": 10,
   "id": "fd47eb02",
   "metadata": {},
   "outputs": [
    {
     "name": "stdout",
     "output_type": "stream",
     "text": [
      "HelloI'mPratigya"
     ]
    }
   ],
   "source": [
    "i = 0\n",
    "a = \"Hello I'm Pratigya\"\n",
    "while i<len(a):\n",
    "    if a[i]!=\" \":\n",
    "        print(a[i],end = \"\")\n",
    "    i = i+1\n",
    "    "
   ]
  },
  {
   "cell_type": "code",
   "execution_count": null,
   "id": "e4043171",
   "metadata": {},
   "outputs": [],
   "source": [
    "# control statements\n",
    "# break : terminates loop\n",
    "# continue\n"
   ]
  },
  {
   "cell_type": "code",
   "execution_count": 11,
   "id": "3f4945fb",
   "metadata": {},
   "outputs": [
    {
     "name": "stdout",
     "output_type": "stream",
     "text": [
      "0\n",
      "1\n",
      "2\n"
     ]
    }
   ],
   "source": [
    "for i in range(5):\n",
    "    if i == 3:\n",
    "        break\n",
    "    print(i)"
   ]
  },
  {
   "cell_type": "code",
   "execution_count": 12,
   "id": "44dac9b8",
   "metadata": {},
   "outputs": [
    {
     "name": "stdout",
     "output_type": "stream",
     "text": [
      "H\n",
      "i\n",
      "Hi its me\n"
     ]
    }
   ],
   "source": [
    "a = \"Hi its me\"\n",
    "for i in a:\n",
    "    if i == \" \":\n",
    "        break\n",
    "    print(i)\n",
    "print(a)\n",
    "        "
   ]
  },
  {
   "cell_type": "code",
   "execution_count": 13,
   "id": "558d5f4b",
   "metadata": {},
   "outputs": [
    {
     "name": "stdout",
     "output_type": "stream",
     "text": [
      "Hiitsme"
     ]
    }
   ],
   "source": [
    "a = \"Hi its me\"\n",
    "for i in a:\n",
    "    if i == \" \":\n",
    "        continue\n",
    "    print(i,end = \"\")\n"
   ]
  },
  {
   "cell_type": "code",
   "execution_count": 1,
   "id": "9c541c4d",
   "metadata": {},
   "outputs": [
    {
     "name": "stdout",
     "output_type": "stream",
     "text": [
      "H\n",
      "i\n"
     ]
    }
   ],
   "source": [
    "i = 0\n",
    "a = \"Hi its me\"\n",
    "while i<len(a):\n",
    "    if a[i] == \" \":\n",
    "        break\n",
    "    else:\n",
    "         print(a[i])\n",
    "    i = i+1\n",
    "    "
   ]
  },
  {
   "cell_type": "code",
   "execution_count": 1,
   "id": "eb9a32ca",
   "metadata": {},
   "outputs": [
    {
     "name": "stdout",
     "output_type": "stream",
     "text": [
      "Hiitsme"
     ]
    }
   ],
   "source": [
    "i = 0\n",
    "a = \"Hi its me\"\n",
    "while i<len(a):\n",
    "    if a[i] == \" \":\n",
    "        i = i+1\n",
    "        continue\n",
    "    else:\n",
    "         print(a[i],end=\"\")\n",
    "    i = i+1"
   ]
  },
  {
   "cell_type": "code",
   "execution_count": null,
   "id": "61783e5f",
   "metadata": {},
   "outputs": [],
   "source": [
    "# WAP to detect if the given number is prime or composite\n"
   ]
  },
  {
   "cell_type": "code",
   "execution_count": 11,
   "id": "b8cd3f58",
   "metadata": {},
   "outputs": [
    {
     "name": "stdout",
     "output_type": "stream",
     "text": [
      "Enter n=2\n",
      "2 The  number is prime \n"
     ]
    }
   ],
   "source": [
    "n = int(input(\"Enter n=\"))\n",
    "if n>=1:\n",
    "    for i in range(2,n):\n",
    "        if n%i==0:\n",
    "            print(n,\"The number is composite\")\n",
    "            break\n",
    "    else:\n",
    "        print(n,\"The  number is prime \")\n",
    "            "
   ]
  },
  {
   "cell_type": "code",
   "execution_count": null,
   "id": "c990f956",
   "metadata": {},
   "outputs": [],
   "source": []
  },
  {
   "cell_type": "code",
   "execution_count": null,
   "id": "01c7f4e2",
   "metadata": {},
   "outputs": [],
   "source": []
  }
 ],
 "metadata": {
  "kernelspec": {
   "display_name": "Python 3 (ipykernel)",
   "language": "python",
   "name": "python3"
  },
  "language_info": {
   "codemirror_mode": {
    "name": "ipython",
    "version": 3
   },
   "file_extension": ".py",
   "mimetype": "text/x-python",
   "name": "python",
   "nbconvert_exporter": "python",
   "pygments_lexer": "ipython3",
   "version": "3.9.12"
  }
 },
 "nbformat": 4,
 "nbformat_minor": 5
}

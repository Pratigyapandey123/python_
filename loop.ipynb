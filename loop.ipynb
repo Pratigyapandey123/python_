{
 "cells": [
  {
   "cell_type": "code",
   "execution_count": null,
   "id": "00be3594",
   "metadata": {},
   "outputs": [],
   "source": [
    "# loop \n",
    "# while\n",
    "# for"
   ]
  },
  {
   "cell_type": "code",
   "execution_count": null,
   "id": "35cc7ecf",
   "metadata": {},
   "outputs": [],
   "source": [
    "\n",
    "range(5)    => 0,1,2,3,4\n",
    "range(1,5)  => 1,2,3,4\n",
    "range(1,5,2) =>1,3"
   ]
  },
  {
   "cell_type": "code",
   "execution_count": 1,
   "id": "4eadd2e3",
   "metadata": {},
   "outputs": [
    {
     "name": "stdout",
     "output_type": "stream",
     "text": [
      "0\n",
      "1\n",
      "2\n",
      "3\n",
      "4\n"
     ]
    }
   ],
   "source": [
    "for i in range(5):\n",
    "    print(i)"
   ]
  },
  {
   "cell_type": "code",
   "execution_count": 2,
   "id": "08a38145",
   "metadata": {},
   "outputs": [
    {
     "name": "stdout",
     "output_type": "stream",
     "text": [
      "Hi\n",
      "Hi\n",
      "Hi\n",
      "Hi\n",
      "Hi\n"
     ]
    }
   ],
   "source": [
    "for i in range(5):\n",
    "    print(\"Hi\")"
   ]
  },
  {
   "cell_type": "code",
   "execution_count": 3,
   "id": "8924a5f1",
   "metadata": {},
   "outputs": [
    {
     "name": "stdout",
     "output_type": "stream",
     "text": [
      "5\n",
      "4\n",
      "3\n",
      "2\n",
      "1\n"
     ]
    }
   ],
   "source": [
    "for i in range(5,0,-1):\n",
    "    print(i)"
   ]
  },
  {
   "cell_type": "code",
   "execution_count": 4,
   "id": "77a303aa",
   "metadata": {},
   "outputs": [
    {
     "name": "stdout",
     "output_type": "stream",
     "text": [
      "5\n",
      "4\n",
      "3\n",
      "2\n",
      "1\n",
      "0\n"
     ]
    }
   ],
   "source": [
    "for i in range(5,-1,-1):\n",
    "    print(i)"
   ]
  },
  {
   "cell_type": "code",
   "execution_count": 5,
   "id": "c950fde8",
   "metadata": {},
   "outputs": [
    {
     "name": "stdout",
     "output_type": "stream",
     "text": [
      "Enter n=5\n",
      "5\n",
      "10\n",
      "15\n",
      "20\n",
      "25\n",
      "30\n",
      "35\n",
      "40\n",
      "45\n",
      "50\n"
     ]
    }
   ],
   "source": [
    "n = int(input(\"Enter n=\"))\n",
    "for i in range(1,11):\n",
    "    print(n*i)"
   ]
  },
  {
   "cell_type": "code",
   "execution_count": 6,
   "id": "4fc62a28",
   "metadata": {},
   "outputs": [
    {
     "name": "stdout",
     "output_type": "stream",
     "text": [
      "Enter n=4\n",
      "4 * 1 = 4\n",
      "4 * 2 = 8\n",
      "4 * 3 = 12\n",
      "4 * 4 = 16\n",
      "4 * 5 = 20\n",
      "4 * 6 = 24\n",
      "4 * 7 = 28\n",
      "4 * 8 = 32\n",
      "4 * 9 = 36\n",
      "4 * 10 = 40\n"
     ]
    }
   ],
   "source": [
    "n = int(input(\"Enter n=\"))\n",
    "for i in range(1,11):\n",
    "    print(n,\"*\",i,\"=\",n*i)"
   ]
  },
  {
   "cell_type": "code",
   "execution_count": 7,
   "id": "470af327",
   "metadata": {},
   "outputs": [
    {
     "name": "stdout",
     "output_type": "stream",
     "text": [
      "Enter n=3\n",
      "Enter x=23\n",
      "23\n",
      "Enter x=33\n",
      "56\n",
      "Enter x=33\n",
      "89\n"
     ]
    }
   ],
   "source": [
    "s=0\n",
    "n = int(input(\"Enter n=\"))\n",
    "for i in range(n):\n",
    "    x = int(input(\"Enter x=\"))\n",
    "    s = s+x\n",
    "    print(s)\n",
    "    \n"
   ]
  },
  {
   "cell_type": "code",
   "execution_count": 8,
   "id": "8bd783f4",
   "metadata": {},
   "outputs": [
    {
     "name": "stdout",
     "output_type": "stream",
     "text": [
      "Enter n=2\n",
      "Enter x=11\n",
      "Enter x=11\n",
      "22\n"
     ]
    }
   ],
   "source": [
    "s=0\n",
    "n = int(input(\"Enter n=\"))\n",
    "for i in range(n):\n",
    "    x = int(input(\"Enter x=\"))\n",
    "    s = s+x\n",
    "print(s)"
   ]
  },
  {
   "cell_type": "code",
   "execution_count": 1,
   "id": "c437c149",
   "metadata": {},
   "outputs": [
    {
     "name": "stdout",
     "output_type": "stream",
     "text": [
      "Enter n=2\n",
      "Enter x=22\n",
      "22\n",
      "\n",
      "Enter x=33\n",
      "22\n",
      "33\n",
      "\n"
     ]
    }
   ],
   "source": [
    "s=str() \n",
    "n = int(input(\"Enter n=\"))\n",
    "for i in range(n):\n",
    "    x = input(\"Enter x=\")\n",
    "    s = s+x+\"\\n\"\n",
    "    print(s)"
   ]
  },
  {
   "cell_type": "code",
   "execution_count": 1,
   "id": "ce162538",
   "metadata": {},
   "outputs": [
    {
     "name": "stdout",
     "output_type": "stream",
     "text": [
      "Enter n=3\n",
      "Enter name=poo\n",
      "Enter phone=5566\n",
      "poo 5566\n",
      "\n",
      "Enter name=rrr\n",
      "Enter phone=4433\n",
      "poo 5566\n",
      "rrr 4433\n",
      "\n",
      "Enter name=ww\n",
      "Enter phone=33444\n",
      "poo 5566\n",
      "rrr 4433\n",
      "ww 33444\n",
      "\n"
     ]
    }
   ],
   "source": [
    "s=str() \n",
    "n = int(input(\"Enter n=\"))\n",
    "for i in range(n):\n",
    "    name= input(\"Enter name=\")\n",
    "    phone= input(\"Enter phone=\")\n",
    "    s = s+name+\" \"+phone+\"\\n\"\n",
    "    print(s)"
   ]
  },
  {
   "cell_type": "code",
   "execution_count": 1,
   "id": "b7fa707e",
   "metadata": {},
   "outputs": [
    {
     "name": "stdout",
     "output_type": "stream",
     "text": [
      "Enter n=4\n",
      "1\n",
      "2\n",
      "6\n",
      "24\n"
     ]
    }
   ],
   "source": [
    "#factorial\n",
    "fac=1\n",
    "n = int(input(\"Enter n=\"))\n",
    "for i in range(1,n+1):\n",
    "    fac = fac*i\n",
    "    print(fac)"
   ]
  },
  {
   "cell_type": "code",
   "execution_count": 3,
   "id": "a19407bb",
   "metadata": {},
   "outputs": [
    {
     "name": "stdout",
     "output_type": "stream",
     "text": [
      "P\n",
      "r\n",
      "a\n",
      "t\n",
      "i\n",
      "g\n",
      "y\n",
      "a\n"
     ]
    }
   ],
   "source": [
    "a = \"Pratigya\"\n",
    "for i in a:\n",
    "    print(i)"
   ]
  },
  {
   "cell_type": "code",
   "execution_count": 4,
   "id": "4c81d1ad",
   "metadata": {},
   "outputs": [
    {
     "name": "stdout",
     "output_type": "stream",
     "text": [
      "Hi\n",
      "Hi\n",
      "Hi\n",
      "Hi\n",
      "Hi\n",
      "Hi\n",
      "Hi\n",
      "Hi\n"
     ]
    }
   ],
   "source": [
    "a = \"Pratigya\"\n",
    "for i in a:\n",
    "    print(\"Hi\")"
   ]
  },
  {
   "cell_type": "code",
   "execution_count": 5,
   "id": "fab786e1",
   "metadata": {},
   "outputs": [
    {
     "name": "stdout",
     "output_type": "stream",
     "text": [
      "P Hi\n",
      "r Hi\n",
      "a Hi\n",
      "t Hi\n",
      "i Hi\n",
      "g Hi\n",
      "y Hi\n",
      "a Hi\n"
     ]
    }
   ],
   "source": [
    "a = \"Pratigya\"\n",
    "for i in a:\n",
    "    print(i,\"Hi\")"
   ]
  },
  {
   "cell_type": "code",
   "execution_count": 7,
   "id": "22827ba5",
   "metadata": {},
   "outputs": [
    {
     "name": "stdout",
     "output_type": "stream",
     "text": [
      "HelloI'mPratigya"
     ]
    }
   ],
   "source": [
    "a = \"Hello I'm Pratigya\"\n",
    "for i in a:\n",
    "    if i!=\" \":\n",
    "        print(i,end = \"\")\n",
    "    "
   ]
  },
  {
   "cell_type": "code",
   "execution_count": 10,
   "id": "39c7b323",
   "metadata": {},
   "outputs": [
    {
     "data": {
      "text/plain": [
       "'i'"
      ]
     },
     "execution_count": 10,
     "metadata": {},
     "output_type": "execute_result"
    }
   ],
   "source": [
    "a = \"Pratigya\"\n",
    "a[4]\n"
   ]
  },
  {
   "cell_type": "code",
   "execution_count": 11,
   "id": "6dde3d9d",
   "metadata": {},
   "outputs": [
    {
     "name": "stdout",
     "output_type": "stream",
     "text": [
      "P\n",
      "r\n",
      "a\n",
      "t\n",
      "i\n",
      "g\n",
      "y\n",
      "a\n"
     ]
    }
   ],
   "source": [
    "for i in range(len(a)):\n",
    "    print(a[i])"
   ]
  },
  {
   "cell_type": "code",
   "execution_count": 12,
   "id": "dfc825e4",
   "metadata": {},
   "outputs": [
    {
     "data": {
      "text/plain": [
       "8"
      ]
     },
     "execution_count": 12,
     "metadata": {},
     "output_type": "execute_result"
    }
   ],
   "source": [
    "len(a)"
   ]
  },
  {
   "cell_type": "code",
   "execution_count": null,
   "id": "66af71d9",
   "metadata": {},
   "outputs": [],
   "source": []
  }
 ],
 "metadata": {
  "kernelspec": {
   "display_name": "Python 3 (ipykernel)",
   "language": "python",
   "name": "python3"
  },
  "language_info": {
   "codemirror_mode": {
    "name": "ipython",
    "version": 3
   },
   "file_extension": ".py",
   "mimetype": "text/x-python",
   "name": "python",
   "nbconvert_exporter": "python",
   "pygments_lexer": "ipython3",
   "version": "3.9.12"
  }
 },
 "nbformat": 4,
 "nbformat_minor": 5
}

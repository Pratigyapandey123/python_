{
 "cells": [
  {
   "cell_type": "code",
   "execution_count": 22,
   "id": "1b514b24",
   "metadata": {},
   "outputs": [],
   "source": [
    "import mysql.connector           #importing database\n",
    "database = mysql.connector.connect(\n",
    "    host = \" localhost\",\n",
    "    user = \"root\",\n",
    "    password = \"\",\n",
    "    database = \"python\"\n",
    "\n",
    ")\n",
    "db = database.cursor()\n",
    "\n",
    "\n",
    "\n"
   ]
  },
  {
   "cell_type": "code",
   "execution_count": null,
   "id": "fc6f68db",
   "metadata": {},
   "outputs": [],
   "source": []
  },
  {
   "cell_type": "code",
   "execution_count": null,
   "id": "c667bb05",
   "metadata": {},
   "outputs": [],
   "source": []
  },
  {
   "cell_type": "code",
   "execution_count": 26,
   "id": "b36d754b",
   "metadata": {},
   "outputs": [
    {
     "name": "stdout",
     "output_type": "stream",
     "text": [
      "Enter name= rita\n",
      "Enter marks = 23\n",
      "Enter marks = 34\n",
      "Enter marks = 45\n",
      "Enter marks = 56\n",
      "Enter marks = 67\n"
     ]
    }
   ],
   "source": [
    "\n",
    "\n",
    "name =  input(\"Enter name= \")\n",
    "\n",
    "math = int(input(\"Enter marks = \")) \n",
    "english = int(input(\"Enter marks = \"))\n",
    "\n",
    "chemistry = int(input(\"Enter marks = \"))\n",
    "\n",
    "physics = int(input(\"Enter marks = \")) \n",
    "nepali = int(input(\"Enter marks = \"))\n",
    "\n",
    "total = math+english+chemistry+physics+nepali\n",
    "\n",
    "percentage= (total/500)*100\n",
    "\n",
    "if percentage >=80:\n",
    "    grade = \"A\"\n",
    "elif percentage >= 60:\n",
    "    grade = \"B\"\n",
    "elif percentage >=45:\n",
    "    grade = \"C\"\n",
    "else:\n",
    "    grade = \"D\"\n",
    "sql = f\"INSERT INTO student (name, math, english, chemistry, physics, nepali, total,percentage,grade) VALUES('{name}',{math},{english},{chemistry},{physics},{napali},{total},{percentage},'{grade}')\"\n",
    "\n",
    "db.execute(sql) \n",
    "database.commit()\n",
    "\n"
   ]
  },
  {
   "cell_type": "code",
   "execution_count": null,
   "id": "aac855c3",
   "metadata": {},
   "outputs": [],
   "source": [
    "#update\n",
    "#UPDATE student SET name = 'Hari', sn = 10 WHERE sn = 2"
   ]
  },
  {
   "cell_type": "code",
   "execution_count": null,
   "id": "d26c28d8",
   "metadata": {},
   "outputs": [],
   "source": [
    "#delete\n",
    "#DELETE FROM student WHERE sn = 2"
   ]
  },
  {
   "cell_type": "code",
   "execution_count": null,
   "id": "013c85a5",
   "metadata": {},
   "outputs": [],
   "source": [
    "# sql = ?\n",
    "# b.execute(sql)\n",
    "# database.commit()"
   ]
  },
  {
   "cell_type": "code",
   "execution_count": null,
   "id": "f6a51dc9",
   "metadata": {},
   "outputs": [],
   "source": [
    "\n"
   ]
  },
  {
   "cell_type": "code",
   "execution_count": null,
   "id": "c41530d6",
   "metadata": {},
   "outputs": [],
   "source": [
    "UPDATE student SET name = '{name}',sn = {sn}, physics = {physics}, chemistry = {chemistry}"
   ]
  },
  {
   "cell_type": "code",
   "execution_count": null,
   "id": "c9da3d6f",
   "metadata": {},
   "outputs": [],
   "source": []
  },
  {
   "cell_type": "code",
   "execution_count": null,
   "id": "4443794d",
   "metadata": {},
   "outputs": [],
   "source": []
  },
  {
   "cell_type": "code",
   "execution_count": null,
   "id": "a02a4cd7",
   "metadata": {},
   "outputs": [],
   "source": []
  }
 ],
 "metadata": {
  "kernelspec": {
   "display_name": "Python 3 (ipykernel)",
   "language": "python",
   "name": "python3"
  },
  "language_info": {
   "codemirror_mode": {
    "name": "ipython",
    "version": 3
   },
   "file_extension": ".py",
   "mimetype": "text/x-python",
   "name": "python",
   "nbconvert_exporter": "python",
   "pygments_lexer": "ipython3",
   "version": "3.9.12"
  }
 },
 "nbformat": 4,
 "nbformat_minor": 5
}

{
 "cells": [
  {
   "cell_type": "code",
   "execution_count": 1,
   "id": "3dfc0743",
   "metadata": {},
   "outputs": [
    {
     "name": "stdout",
     "output_type": "stream",
     "text": [
      "hello string\n",
      "<class 'str'>\n"
     ]
    }
   ],
   "source": [
    "a = \"hello string\"\n",
    "print(a)\n",
    "print(type(a))"
   ]
  },
  {
   "cell_type": "code",
   "execution_count": 3,
   "id": "c9335fc3",
   "metadata": {},
   "outputs": [
    {
     "name": "stdout",
     "output_type": "stream",
     "text": [
      "hello world\n"
     ]
    }
   ],
   "source": [
    "a = \"hello \"\n",
    "b = \"world\"\n",
    "c = a+b\n",
    "print(c)"
   ]
  },
  {
   "cell_type": "code",
   "execution_count": 4,
   "id": "f4421943",
   "metadata": {},
   "outputs": [
    {
     "name": "stdout",
     "output_type": "stream",
     "text": [
      "hello world\n",
      "hello world\n",
      "\n"
     ]
    }
   ],
   "source": [
    "a = \"hello world\\n\"\n",
    "print(a*2)"
   ]
  },
  {
   "cell_type": "code",
   "execution_count": 5,
   "id": "cc41315e",
   "metadata": {},
   "outputs": [
    {
     "name": "stdout",
     "output_type": "stream",
     "text": [
      "Enter a = 2\n",
      "<class 'str'>\n"
     ]
    }
   ],
   "source": [
    "a = input(\"Enter a = \")\n",
    "print(type(a))"
   ]
  },
  {
   "cell_type": "code",
   "execution_count": null,
   "id": "452a24da",
   "metadata": {},
   "outputs": [],
   "source": [
    "#string = sequence of char , imutable datatype\n"
   ]
  },
  {
   "cell_type": "code",
   "execution_count": 9,
   "id": "cb9e108d",
   "metadata": {},
   "outputs": [
    {
     "name": "stdout",
     "output_type": "stream",
     "text": [
      "Hi I a\n"
     ]
    }
   ],
   "source": [
    "a = \"Hi I am Pratigya\"\n",
    "print(a[0:6])"
   ]
  },
  {
   "cell_type": "code",
   "execution_count": 10,
   "id": "4a1dda48",
   "metadata": {},
   "outputs": [
    {
     "name": "stdout",
     "output_type": "stream",
     "text": [
      "Hi I a\n"
     ]
    }
   ],
   "source": [
    "a = \"Hi I am Pratigya\"\n",
    "print(a[:6])"
   ]
  },
  {
   "cell_type": "code",
   "execution_count": 11,
   "id": "d00a16c0",
   "metadata": {},
   "outputs": [
    {
     "name": "stdout",
     "output_type": "stream",
     "text": [
      "m Pratigya\n"
     ]
    }
   ],
   "source": [
    "a = \"Hi I am Pratigya\"\n",
    "print(a[6:])"
   ]
  },
  {
   "cell_type": "code",
   "execution_count": 12,
   "id": "675c97cb",
   "metadata": {},
   "outputs": [
    {
     "name": "stdout",
     "output_type": "stream",
     "text": [
      "Hi I \n",
      "am Pratigya\n"
     ]
    }
   ],
   "source": [
    "a = \"Hi I am Pratigya\"\n",
    "b = a[:5]\n",
    "c = a[5:]\n",
    "print(b)\n",
    "print(c)"
   ]
  },
  {
   "cell_type": "code",
   "execution_count": 14,
   "id": "bc1ab698",
   "metadata": {},
   "outputs": [
    {
     "name": "stdout",
     "output_type": "stream",
     "text": [
      "HIm\n"
     ]
    }
   ],
   "source": [
    "a = \"Hi I am Pratigya\"\n",
    "print(a[0:9:3])"
   ]
  },
  {
   "cell_type": "code",
   "execution_count": 15,
   "id": "7b4387fa",
   "metadata": {},
   "outputs": [
    {
     "name": "stdout",
     "output_type": "stream",
     "text": [
      "aygitarP ma I iH\n"
     ]
    }
   ],
   "source": [
    "a = \"Hi I am Pratigya\"\n",
    "print(a[::-1])"
   ]
  },
  {
   "cell_type": "code",
   "execution_count": 16,
   "id": "59feac24",
   "metadata": {},
   "outputs": [
    {
     "name": "stdout",
     "output_type": "stream",
     "text": [
      "aygitarP ma I iH\n"
     ]
    }
   ],
   "source": [
    "a = \"Hi I am Pratigya\"\n",
    "print(a[-1::-1])"
   ]
  },
  {
   "cell_type": "code",
   "execution_count": 17,
   "id": "134201dd",
   "metadata": {},
   "outputs": [
    {
     "name": "stdout",
     "output_type": "stream",
     "text": [
      " Hello I am Ram. I am from Dang. I am 32\n"
     ]
    }
   ],
   "source": [
    "#string formatting\n",
    "name = \"Ram\"\n",
    "age = 32\n",
    "add = \"Dang\"\n",
    "\n",
    "info = f\" Hello I am {name}. I am from {add}. I am {age}\"\n",
    "print(info)"
   ]
  },
  {
   "cell_type": "code",
   "execution_count": 20,
   "id": "384677cc",
   "metadata": {},
   "outputs": [
    {
     "ename": "SyntaxError",
     "evalue": "invalid syntax (406745546.py, line 5)",
     "output_type": "error",
     "traceback": [
      "\u001b[1;36m  Input \u001b[1;32mIn [20]\u001b[1;36m\u001b[0m\n\u001b[1;33m    info = Hello I am +\"name \"+I am from +\"add \"+ I am +\"age.\"\u001b[0m\n\u001b[1;37m                 ^\u001b[0m\n\u001b[1;31mSyntaxError\u001b[0m\u001b[1;31m:\u001b[0m invalid syntax\n"
     ]
    }
   ],
   "source": [
    "name = \"Ram\"\n",
    "age = 32\n",
    "add = \"Dang\"\n",
    "\n",
    "info = Hello I am +\"name \"+I am from +\"add \"+ I am +\"age.\"\n",
    "info"
   ]
  },
  {
   "cell_type": "code",
   "execution_count": 23,
   "id": "b0987137",
   "metadata": {},
   "outputs": [
    {
     "name": "stdout",
     "output_type": "stream",
     "text": [
      "Enter n = 2\n",
      "Enter name = pen\n",
      "Enter price = 4\n",
      "Enter quantity = 3\n",
      "Enter name = copy\n",
      "Enter price = 44\n",
      "Enter quantity = 3\n",
      "pen 4 3 12\n",
      "copy 44 3 132\n",
      "\n"
     ]
    }
   ],
   "source": [
    "bill = str()\n",
    "n = int(input(\"Enter n = \"))\n",
    "for i in range(n):\n",
    "    name = input(\"Enter name = \")\n",
    "    price = int(input(\"Enter price = \"))\n",
    "    quantity = int(input(\"Enter quantity = \"))\n",
    "    total = price*quantity\n",
    "    info = f\"{name} {price} {quantity} {total}\\n\"\n",
    "    bill = bill + info\n",
    "    \n",
    "print(bill)"
   ]
  },
  {
   "cell_type": "code",
   "execution_count": 24,
   "id": "7d7af2b3",
   "metadata": {},
   "outputs": [
    {
     "name": "stdout",
     "output_type": "stream",
     "text": [
      "Yes\n"
     ]
    }
   ],
   "source": [
    "a = \"Sita Shyam Ram Gita\"\n",
    "search = \"Gita\"\n",
    "\n",
    "if search in a:\n",
    "    print(\"Yes\")\n",
    "else:\n",
    "    print(\"No\")"
   ]
  },
  {
   "cell_type": "code",
   "execution_count": 25,
   "id": "f24a6b78",
   "metadata": {},
   "outputs": [
    {
     "name": "stdout",
     "output_type": "stream",
     "text": [
      "No\n"
     ]
    }
   ],
   "source": [
    "a = \"Sita Shyam Ram Gita\"\n",
    "search = \"X\"\n",
    "\n",
    "if search in a:\n",
    "    print(\"Yes\")\n",
    "else:\n",
    "    print(\"No\")"
   ]
  },
  {
   "cell_type": "code",
   "execution_count": 26,
   "id": "42e51453",
   "metadata": {},
   "outputs": [
    {
     "name": "stdout",
     "output_type": "stream",
     "text": [
      "Yes\n",
      "2\n"
     ]
    }
   ],
   "source": [
    "a = \"Sita Shyam Ram Gita Shree Gita\"\n",
    "search = \"Gita\"\n",
    "\n",
    "if search in a:\n",
    "    print(\"Yes\")\n",
    "    print(a.count(search))\n",
    "else:\n",
    "    print(\"No\")"
   ]
  },
  {
   "cell_type": "code",
   "execution_count": 29,
   "id": "6c402194",
   "metadata": {},
   "outputs": [
    {
     "name": "stdout",
     "output_type": "stream",
     "text": [
      "Enter the value of search = Ram\n",
      "Yes\n",
      "2\n"
     ]
    }
   ],
   "source": [
    "a = \"Sita Shyam Ram Gita Ramesh Giga\"\n",
    "search =input(\"Enter the value of search = \")\n",
    "\n",
    "if search in a:\n",
    "    print(\"Yes\")\n",
    "    print(a.count(search))\n",
    "else:\n",
    "    print(\"No\")"
   ]
  },
  {
   "cell_type": "code",
   "execution_count": 34,
   "id": "5cddfb70",
   "metadata": {},
   "outputs": [
    {
     "data": {
      "text/plain": [
       "'sita shyam ram gita ramesh giga'"
      ]
     },
     "execution_count": 34,
     "metadata": {},
     "output_type": "execute_result"
    }
   ],
   "source": [
    "a = \"Sita Shyam Ram Gita Ramesh Giga\"\n",
    "a.lower()\n"
   ]
  },
  {
   "cell_type": "code",
   "execution_count": 32,
   "id": "25e153d1",
   "metadata": {},
   "outputs": [
    {
     "data": {
      "text/plain": [
       "'RAM'"
      ]
     },
     "execution_count": 32,
     "metadata": {},
     "output_type": "execute_result"
    }
   ],
   "source": [
    "search = \"RaM\"\n",
    "search.upper()"
   ]
  },
  {
   "cell_type": "code",
   "execution_count": 33,
   "id": "b7669c25",
   "metadata": {},
   "outputs": [
    {
     "name": "stdout",
     "output_type": "stream",
     "text": [
      "Enter the value of search = ram\n",
      "Yes\n",
      "2\n"
     ]
    }
   ],
   "source": [
    "a = \"Sita Shyam Ram Gita Ramesh Giga\".lower()\n",
    "search =input(\"Enter the value of search = \").lower()\n",
    "\n",
    "if search in a:\n",
    "    print(\"Yes\")\n",
    "    print(a.count(search))\n",
    "else:\n",
    "    print(\"No\")"
   ]
  },
  {
   "cell_type": "code",
   "execution_count": 36,
   "id": "75e629e5",
   "metadata": {},
   "outputs": [
    {
     "data": {
      "text/plain": [
       "'Sita Shyam Ram Gita Ramesh Giga'"
      ]
     },
     "execution_count": 36,
     "metadata": {},
     "output_type": "execute_result"
    }
   ],
   "source": [
    "a = 'sita shyam ram gita ramesh giga'\n",
    "a.title()"
   ]
  },
  {
   "cell_type": "code",
   "execution_count": 37,
   "id": "f6364b00",
   "metadata": {},
   "outputs": [
    {
     "name": "stdout",
     "output_type": "stream",
     "text": [
      "Sita Shyam Ram Gita Ramesh Giga\n"
     ]
    }
   ],
   "source": [
    "a = \"Sita Shyam Ram Gita Ramesh Giga\"\n",
    "a.lower()\n",
    "print(a)"
   ]
  },
  {
   "cell_type": "code",
   "execution_count": 38,
   "id": "78788eac",
   "metadata": {},
   "outputs": [
    {
     "name": "stdout",
     "output_type": "stream",
     "text": [
      "sita shyam ram gita ramesh giga\n"
     ]
    }
   ],
   "source": [
    "a = \"Sita Shyam Ram Gita Ramesh Giga\"\n",
    "a = a.lower()\n",
    "print(a)"
   ]
  },
  {
   "cell_type": "code",
   "execution_count": 40,
   "id": "e1efde28",
   "metadata": {},
   "outputs": [
    {
     "data": {
      "text/plain": [
       "'Sita Shyam Rama Gita Ramesh Giga'"
      ]
     },
     "execution_count": 40,
     "metadata": {},
     "output_type": "execute_result"
    }
   ],
   "source": [
    "a = \"Sita Shyam Ram Gita Ramesh Giga\"\n",
    "a.replace(\"Ram \",\"Rama \")"
   ]
  },
  {
   "cell_type": "code",
   "execution_count": 41,
   "id": "5c9b2eeb",
   "metadata": {},
   "outputs": [
    {
     "data": {
      "text/plain": [
       "'Sita Shyam Gita Ramesh Giga'"
      ]
     },
     "execution_count": 41,
     "metadata": {},
     "output_type": "execute_result"
    }
   ],
   "source": [
    "a = \"Sita Shyam Ram Gita Ramesh Giga\"\n",
    "a.replace(\"Ram \",\"\")"
   ]
  },
  {
   "cell_type": "code",
   "execution_count": null,
   "id": "b9e0b59e",
   "metadata": {},
   "outputs": [],
   "source": []
  }
 ],
 "metadata": {
  "kernelspec": {
   "display_name": "Python 3 (ipykernel)",
   "language": "python",
   "name": "python3"
  },
  "language_info": {
   "codemirror_mode": {
    "name": "ipython",
    "version": 3
   },
   "file_extension": ".py",
   "mimetype": "text/x-python",
   "name": "python",
   "nbconvert_exporter": "python",
   "pygments_lexer": "ipython3",
   "version": "3.9.12"
  }
 },
 "nbformat": 4,
 "nbformat_minor": 5
}

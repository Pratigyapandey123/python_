{
 "cells": [
  {
   "cell_type": "code",
   "execution_count": 1,
   "id": "be03f5e7",
   "metadata": {},
   "outputs": [
    {
     "name": "stdout",
     "output_type": "stream",
     "text": [
      "6\n"
     ]
    }
   ],
   "source": [
    "a = [1,2,3,4,5,6]\n",
    "print(len(a))"
   ]
  },
  {
   "cell_type": "code",
   "execution_count": 2,
   "id": "5623fb46",
   "metadata": {},
   "outputs": [
    {
     "name": "stdout",
     "output_type": "stream",
     "text": [
      "apple\n"
     ]
    }
   ],
   "source": [
    "b=[\"cat\",'dog',\"apple\"]\n",
    "print(b[2])"
   ]
  },
  {
   "cell_type": "code",
   "execution_count": 3,
   "id": "27119db1",
   "metadata": {},
   "outputs": [
    {
     "name": "stdout",
     "output_type": "stream",
     "text": [
      "['cat', 'dog', 'apple', 1, 2]\n"
     ]
    }
   ],
   "source": [
    "b=[\"cat\",'dog',\"apple\",1,2,3,4]\n",
    "print(b[:5])"
   ]
  },
  {
   "cell_type": "code",
   "execution_count": 4,
   "id": "2dc33af0",
   "metadata": {},
   "outputs": [
    {
     "name": "stdout",
     "output_type": "stream",
     "text": [
      "[1, 2, 3, 4, 5, 6, 7, 8, 9]\n"
     ]
    }
   ],
   "source": [
    "a = [1,2,3,4,5]\n",
    "b = [6,7,8,9]\n",
    "c=a+b\n",
    "print(c)"
   ]
  },
  {
   "cell_type": "code",
   "execution_count": 5,
   "id": "e450eb9f",
   "metadata": {},
   "outputs": [
    {
     "data": {
      "text/plain": [
       "[1, 2, 3, 4, 5, 1, 2, 3, 4, 5]"
      ]
     },
     "execution_count": 5,
     "metadata": {},
     "output_type": "execute_result"
    }
   ],
   "source": [
    "a = [1,2,3,4,5]\n",
    "a*2"
   ]
  },
  {
   "cell_type": "code",
   "execution_count": 6,
   "id": "47c5ce7d",
   "metadata": {},
   "outputs": [
    {
     "data": {
      "text/plain": [
       "'cat'"
      ]
     },
     "execution_count": 6,
     "metadata": {},
     "output_type": "execute_result"
    }
   ],
   "source": [
    "b=[\"cat\",'dog',\"apple\",\"man\"]\n",
    "b[0]"
   ]
  },
  {
   "cell_type": "code",
   "execution_count": 7,
   "id": "f16ef5a6",
   "metadata": {},
   "outputs": [
    {
     "data": {
      "text/plain": [
       "['ant', 'dog', 'apple', 'man']"
      ]
     },
     "execution_count": 7,
     "metadata": {},
     "output_type": "execute_result"
    }
   ],
   "source": [
    "b=[\"cat\",'dog',\"apple\",\"man\"]\n",
    "b[0] = \"ant\"\n",
    "b"
   ]
  },
  {
   "cell_type": "code",
   "execution_count": null,
   "id": "e6072bc0",
   "metadata": {},
   "outputs": [],
   "source": [
    "# append() insert() extend()"
   ]
  },
  {
   "cell_type": "code",
   "execution_count": 8,
   "id": "845bc4e9",
   "metadata": {},
   "outputs": [
    {
     "data": {
      "text/plain": [
       "['apple', 'ball', 'cat']"
      ]
     },
     "execution_count": 8,
     "metadata": {},
     "output_type": "execute_result"
    }
   ],
   "source": [
    "#a = list()\n",
    "a = []\n",
    "a.append(\"apple\")\n",
    "a.append(\"ball\")\n",
    "a.append(\"cat\")\n",
    "a"
   ]
  },
  {
   "cell_type": "code",
   "execution_count": 9,
   "id": "7dd9ca25",
   "metadata": {},
   "outputs": [
    {
     "name": "stdout",
     "output_type": "stream",
     "text": [
      "Enter n = 3\n",
      "Enter x = 3\n",
      "Enter x = 22\n",
      "Enter x = 44\n",
      "[3, 22, 44]\n"
     ]
    }
   ],
   "source": [
    "a = []\n",
    "n = int(input(\"Enter n = \"))\n",
    "for i in range(n):\n",
    "    x = int(input(\"Enter x = \"))\n",
    "    a.append(x)\n",
    "print(a)   "
   ]
  },
  {
   "cell_type": "markdown",
   "id": "d137f1fc",
   "metadata": {},
   "source": []
  },
  {
   "cell_type": "code",
   "execution_count": 10,
   "id": "8d73b8e4",
   "metadata": {},
   "outputs": [
    {
     "name": "stdout",
     "output_type": "stream",
     "text": [
      "The max value of a =  44\n",
      "The min value of a =  3\n",
      "The sum of a =  69\n",
      "The avg value of a =  23.0\n"
     ]
    }
   ],
   "source": [
    "print(\"The max value of a = \",max(a))\n",
    "print(\"The min value of a = \",min(a))\n",
    "print(\"The sum of a = \",sum(a))\n",
    "print(\"The avg value of a = \",sum(a)/n)"
   ]
  },
  {
   "cell_type": "code",
   "execution_count": 12,
   "id": "8dccd1b4",
   "metadata": {},
   "outputs": [
    {
     "data": {
      "text/plain": [
       "89"
      ]
     },
     "execution_count": 12,
     "metadata": {},
     "output_type": "execute_result"
    }
   ],
   "source": [
    "a = [3,4,5,6,4,67]\n",
    "sum(a)\n",
    "#similar in all other operations"
   ]
  },
  {
   "cell_type": "code",
   "execution_count": 13,
   "id": "e6b76eaa",
   "metadata": {},
   "outputs": [
    {
     "name": "stdout",
     "output_type": "stream",
     "text": [
      "[3, 4, 4, 5, 6, 67]\n"
     ]
    }
   ],
   "source": [
    "a.sort()\n",
    "print(a)"
   ]
  },
  {
   "cell_type": "code",
   "execution_count": 14,
   "id": "089686e4",
   "metadata": {},
   "outputs": [
    {
     "data": {
      "text/plain": [
       "[67, 6, 5, 4, 4, 3]"
      ]
     },
     "execution_count": 14,
     "metadata": {},
     "output_type": "execute_result"
    }
   ],
   "source": [
    "a.reverse()\n",
    "a"
   ]
  },
  {
   "cell_type": "code",
   "execution_count": 16,
   "id": "8b2bca8b",
   "metadata": {},
   "outputs": [
    {
     "name": "stdout",
     "output_type": "stream",
     "text": [
      "['1ball', 'Apple', 'cat', 'xray']\n"
     ]
    }
   ],
   "source": [
    "a = ['cat','1ball','Apple','xray']\n",
    "a.sort()\n",
    "print(a)\n",
    "#integers,capital letters,small letters"
   ]
  },
  {
   "cell_type": "code",
   "execution_count": 19,
   "id": "9270987d",
   "metadata": {},
   "outputs": [
    {
     "name": "stdout",
     "output_type": "stream",
     "text": [
      "['cat', 'see', 'dog', 'apple', 'man']\n"
     ]
    }
   ],
   "source": [
    "#insert()\n",
    "b=[\"cat\",'dog',\"apple\",\"man\"]\n",
    "b.insert(1,'see')\n",
    "print(b)"
   ]
  },
  {
   "cell_type": "code",
   "execution_count": 20,
   "id": "c048aacf",
   "metadata": {},
   "outputs": [
    {
     "data": {
      "text/plain": [
       "[1, 2, 3, 4, 5, 6, 7, 8, 9]"
      ]
     },
     "execution_count": 20,
     "metadata": {},
     "output_type": "execute_result"
    }
   ],
   "source": [
    "#extend()\n",
    "a = [1,2,3,4,5]\n",
    "b = [6,7,8,9]\n",
    "a.extend(b)\n",
    "a"
   ]
  },
  {
   "cell_type": "code",
   "execution_count": 22,
   "id": "cf0b97ae",
   "metadata": {},
   "outputs": [
    {
     "name": "stdout",
     "output_type": "stream",
     "text": [
      "cat\n",
      "dog\n",
      "apple\n",
      "man\n"
     ]
    }
   ],
   "source": [
    "b=[\"cat\",'dog',\"apple\",\"man\"]\n",
    "for i in b:\n",
    "    print(i)"
   ]
  },
  {
   "cell_type": "code",
   "execution_count": null,
   "id": "fbb5f826",
   "metadata": {},
   "outputs": [],
   "source": [
    "#del remove() pop()"
   ]
  },
  {
   "cell_type": "code",
   "execution_count": 23,
   "id": "c8c72fc9",
   "metadata": {},
   "outputs": [
    {
     "name": "stdout",
     "output_type": "stream",
     "text": [
      "['cat', 'dog', 'man']\n"
     ]
    }
   ],
   "source": [
    "b=[\"cat\",'dog',\"apple\",\"man\"]\n",
    "del b[2]\n",
    "print(b)"
   ]
  },
  {
   "cell_type": "code",
   "execution_count": 24,
   "id": "ce0e32eb",
   "metadata": {},
   "outputs": [
    {
     "name": "stdout",
     "output_type": "stream",
     "text": [
      "['apple', 'man']\n"
     ]
    }
   ],
   "source": [
    "b=[\"cat\",'dog',\"apple\",\"man\"]\n",
    "del b[0:2]\n",
    "print(b)"
   ]
  },
  {
   "cell_type": "code",
   "execution_count": 26,
   "id": "b4140895",
   "metadata": {},
   "outputs": [
    {
     "data": {
      "text/plain": [
       "1"
      ]
     },
     "execution_count": 26,
     "metadata": {},
     "output_type": "execute_result"
    }
   ],
   "source": [
    "b=[\"cat\",'dog',\"apple\",\"man\"]\n",
    "b.index(\"dog\")\n"
   ]
  },
  {
   "cell_type": "code",
   "execution_count": 28,
   "id": "c3e7e7f2",
   "metadata": {},
   "outputs": [
    {
     "data": {
      "text/plain": [
       "['cat', 'apple', 'man']"
      ]
     },
     "execution_count": 28,
     "metadata": {},
     "output_type": "execute_result"
    }
   ],
   "source": [
    "b=[\"cat\",'dog',\"apple\",\"man\"]\n",
    "b.remove('dog')\n",
    "b\n"
   ]
  },
  {
   "cell_type": "code",
   "execution_count": 29,
   "id": "9453b7d8",
   "metadata": {},
   "outputs": [
    {
     "data": {
      "text/plain": [
       "['cat', 'dog', 'apple']"
      ]
     },
     "execution_count": 29,
     "metadata": {},
     "output_type": "execute_result"
    }
   ],
   "source": [
    "a=[\"cat\",'dog',\"apple\",\"man\"]\n",
    "a.pop()\n",
    "a"
   ]
  },
  {
   "cell_type": "code",
   "execution_count": 30,
   "id": "f01ecb8b",
   "metadata": {},
   "outputs": [
    {
     "data": {
      "text/plain": [
       "['dog', 'apple', 'man']"
      ]
     },
     "execution_count": 30,
     "metadata": {},
     "output_type": "execute_result"
    }
   ],
   "source": [
    "a=[\"cat\",'dog',\"apple\",\"man\"]\n",
    "a.pop(0)\n",
    "a"
   ]
  },
  {
   "cell_type": "code",
   "execution_count": 31,
   "id": "9a6ce104",
   "metadata": {},
   "outputs": [
    {
     "name": "stdout",
     "output_type": "stream",
     "text": [
      "['dog', 'apple', 'man']\n",
      "cat\n"
     ]
    }
   ],
   "source": [
    "a=[\"cat\",'dog',\"apple\",\"man\"]\n",
    "b = a.pop(0)\n",
    "print(a)\n",
    "print(b)"
   ]
  },
  {
   "cell_type": "code",
   "execution_count": 32,
   "id": "1dcdeee4",
   "metadata": {},
   "outputs": [
    {
     "data": {
      "text/plain": [
       "['don', 'dog', 'apple', 'man']"
      ]
     },
     "execution_count": 32,
     "metadata": {},
     "output_type": "execute_result"
    }
   ],
   "source": [
    "a=[\"cat\",'dog',\"apple\",\"man\"]\n",
    "a[0] = \"don\"\n",
    "a"
   ]
  },
  {
   "cell_type": "code",
   "execution_count": null,
   "id": "4316a80e",
   "metadata": {},
   "outputs": [],
   "source": [
    "#WAP to detect index of a duplicate data\n",
    "#WAP to remove duplicate data\n",
    "#WAP to search any given data"
   ]
  },
  {
   "cell_type": "code",
   "execution_count": 39,
   "id": "4891a37f",
   "metadata": {},
   "outputs": [
    {
     "data": {
      "text/plain": [
       "9"
      ]
     },
     "execution_count": 39,
     "metadata": {},
     "output_type": "execute_result"
    }
   ],
   "source": [
    "b = ['cat',\"Dog\",'egg','apple','Banana','Cat','road','bottle','cat']\n",
    "len(b)\n",
    "\n",
    "\n",
    "    "
   ]
  },
  {
   "cell_type": "code",
   "execution_count": 43,
   "id": "34b401eb",
   "metadata": {},
   "outputs": [
    {
     "name": "stdout",
     "output_type": "stream",
     "text": [
      "Enter an element to be search: \n",
      "cat\n",
      "\n",
      "Element found at Index: 0\n"
     ]
    }
   ],
   "source": [
    "#WAP to search any given data\n",
    "b = ['cat',\"Dog\",'egg','apple','Banana','road','bottle']\n",
    "\n",
    "print(\"Enter an element to be search: \")\n",
    "elem = (input())\n",
    "\n",
    "for i in range(len(b)):\n",
    "    if elem == b[i]:\n",
    "        print(\"\\nElement found at Index:\", i)\n",
    "        "
   ]
  },
  {
   "cell_type": "code",
   "execution_count": 49,
   "id": "03ba683b",
   "metadata": {},
   "outputs": [
    {
     "data": {
      "text/plain": [
       "2"
      ]
     },
     "execution_count": 49,
     "metadata": {},
     "output_type": "execute_result"
    }
   ],
   "source": [
    "# Wap to detect index of a duplicate data.\n",
    "\n",
    "a = [\"Aeroplane\",\"Car\",\"Bike\",\"Cycle\",\"Bike\",\"Motorcycle\"]\n",
    "n = input(\"Enter the element whoese index needs to be found : \")\n",
    "\n",
    "\n",
    "\n",
    "\n",
    "\n",
    "\n"
   ]
  },
  {
   "cell_type": "code",
   "execution_count": null,
   "id": "6e60442a",
   "metadata": {},
   "outputs": [],
   "source": []
  }
 ],
 "metadata": {
  "kernelspec": {
   "display_name": "Python 3 (ipykernel)",
   "language": "python",
   "name": "python3"
  },
  "language_info": {
   "codemirror_mode": {
    "name": "ipython",
    "version": 3
   },
   "file_extension": ".py",
   "mimetype": "text/x-python",
   "name": "python",
   "nbconvert_exporter": "python",
   "pygments_lexer": "ipython3",
   "version": "3.9.12"
  }
 },
 "nbformat": 4,
 "nbformat_minor": 5
}

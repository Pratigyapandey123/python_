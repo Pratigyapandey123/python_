{
 "cells": [
  {
   "cell_type": "code",
   "execution_count": 3,
   "id": "45c72f5e",
   "metadata": {},
   "outputs": [
    {
     "name": "stdout",
     "output_type": "stream",
     "text": [
      "2\n",
      "4\n"
     ]
    }
   ],
   "source": [
    "# Wap to detect index of a duplicate data.\n",
    "\n",
    "a = [\"Aeroplane\",\"Car\",\"Bike\",\"Cycle\",\"Bike\",\"Motorcycle\"]\n",
    "for i in range(len(a)):\n",
    "    if a[i] == \"Bike\":\n",
    "        print(i)\n",
    "        \n",
    "    \n",
    "    \n"
   ]
  },
  {
   "cell_type": "code",
   "execution_count": 6,
   "id": "2c759572",
   "metadata": {},
   "outputs": [
    {
     "name": "stdout",
     "output_type": "stream",
     "text": [
      "['Aeroplane', 'Car', 'Cycle', 'Motorcycle']\n"
     ]
    }
   ],
   "source": [
    "#WAP to remove duplicate data\n",
    "b= []\n",
    "a = [\"Aeroplane\",\"Car\",\"Bike\",\"Cycle\",\"Bike\",\"Motorcycle\"]\n",
    "for i in a:\n",
    "    if i != \"Bike\":\n",
    "        b.append(i)\n",
    "\n",
    "print(b)\n"
   ]
  },
  {
   "cell_type": "code",
   "execution_count": 5,
   "id": "33ef4ab1",
   "metadata": {},
   "outputs": [
    {
     "name": "stdout",
     "output_type": "stream",
     "text": [
      "['Aeroplane', 'Car', 'Cycle', 'Motorcycle']\n"
     ]
    }
   ],
   "source": [
    "#WAP to remove duplicate data\n",
    "a = [\"Aeroplane\",\"Car\",\"Bike\",\"Cycle\",\"Bike\",\"Motorcycle\"]\n",
    "l = a.count(\"Bike\")\n",
    "for i in range(l):\n",
    "    a.remove(\"Bike\")\n",
    "print(a)"
   ]
  },
  {
   "cell_type": "code",
   "execution_count": 9,
   "id": "b005d7e6",
   "metadata": {},
   "outputs": [
    {
     "name": "stdout",
     "output_type": "stream",
     "text": [
      "Car 2\n",
      "Bike 2\n"
     ]
    }
   ],
   "source": [
    "a = [\"Aeroplane\",\"Car\",\"Bike\",\"Cycle\",\"Bike\",\"Motorcycle\",\"Car\"]\n",
    "b = []\n",
    "for i in a:\n",
    "    if a.count(i)>1 and (i not in b):\n",
    "        b.append(i)\n",
    "        print(i,a.count(i))\n",
    "    "
   ]
  },
  {
   "cell_type": "code",
   "execution_count": 10,
   "id": "f7a57447",
   "metadata": {},
   "outputs": [
    {
     "name": "stdout",
     "output_type": "stream",
     "text": [
      "<class 'list'>\n",
      "3\n"
     ]
    }
   ],
   "source": [
    "#list inside list\n",
    "a = [[1,2,3],[4,5,6],[7,8,9]]\n",
    "print(type(a))\n",
    "print(len(a))"
   ]
  },
  {
   "cell_type": "code",
   "execution_count": 13,
   "id": "33f7e76e",
   "metadata": {},
   "outputs": [
    {
     "name": "stdout",
     "output_type": "stream",
     "text": [
      "[1, 2, 3]\n",
      "1\n"
     ]
    }
   ],
   "source": [
    "a = [[1,2,3],[4,5,6],[7,8,9]]\n",
    "print(a[0])\n",
    "print(a[0][0])"
   ]
  },
  {
   "cell_type": "code",
   "execution_count": null,
   "id": "84d23929",
   "metadata": {},
   "outputs": [],
   "source": [
    "a = [[\"Ram\",44,\"Dang\"],\n",
    "    [\"Hari\",22,\"Lalitpur\"],\n",
    "    [\"Shyam\",54,\"Bhaktapur\"]]\n",
    "#indexing same as above"
   ]
  },
  {
   "cell_type": "code",
   "execution_count": 14,
   "id": "52b3b02c",
   "metadata": {},
   "outputs": [
    {
     "name": "stdout",
     "output_type": "stream",
     "text": [
      "Enter search value = Ram\n",
      "['Ram', 44, 'Dang']\n"
     ]
    }
   ],
   "source": [
    "a = [[\"Ram\",44,\"Dang\"],\n",
    "    [\"Hari\",22,\"Lalitpur\"],\n",
    "    [\"Shyam\",54,\"Bhaktapur\"]]\n",
    "search = input(\"Enter search value = \")\n",
    "for i in a:\n",
    "    if search in i:\n",
    "        print(i)\n",
    "    "
   ]
  },
  {
   "cell_type": "code",
   "execution_count": 15,
   "id": "9a933fd4",
   "metadata": {},
   "outputs": [
    {
     "data": {
      "text/plain": [
       "[['Sita', 21, 'Palpa'], ['Hari', 22, 'Lalitpur'], ['Shyam', 54, 'Bhaktapur']]"
      ]
     },
     "execution_count": 15,
     "metadata": {},
     "output_type": "execute_result"
    }
   ],
   "source": [
    "a = [[\"Ram\",44,\"Dang\"],\n",
    "    [\"Hari\",22,\"Lalitpur\"],\n",
    "    [\"Shyam\",54,\"Bhaktapur\"]]\n",
    "a[0] = [\"Sita\",21,'Palpa']\n",
    "a"
   ]
  },
  {
   "cell_type": "code",
   "execution_count": 16,
   "id": "8c8c41fe",
   "metadata": {},
   "outputs": [
    {
     "data": {
      "text/plain": [
       "[['Ram', 21, 'Dang'], ['Hari', 22, 'Lalitpur'], ['Shyam', 54, 'Bhaktapur']]"
      ]
     },
     "execution_count": 16,
     "metadata": {},
     "output_type": "execute_result"
    }
   ],
   "source": [
    "a = [[\"Ram\",44,\"Dang\"],\n",
    "    [\"Hari\",22,\"Lalitpur\"],\n",
    "    [\"Shyam\",54,\"Bhaktapur\"]]\n",
    "a[0][1] = 21\n",
    "a"
   ]
  },
  {
   "cell_type": "code",
   "execution_count": 17,
   "id": "624b2b61",
   "metadata": {},
   "outputs": [
    {
     "data": {
      "text/plain": [
       "[2, 5, 1, 7, 4, 8]"
      ]
     },
     "execution_count": 17,
     "metadata": {},
     "output_type": "execute_result"
    }
   ],
   "source": [
    "a = [2,5,6,7,4,8]\n",
    "a[2] = 1\n",
    "a"
   ]
  },
  {
   "cell_type": "code",
   "execution_count": 19,
   "id": "18d71d18",
   "metadata": {},
   "outputs": [
    {
     "data": {
      "text/plain": [
       "[['Hari', 22, 'Lalitpur'], ['Shyam', 54, 'Bhaktapur']]"
      ]
     },
     "execution_count": 19,
     "metadata": {},
     "output_type": "execute_result"
    }
   ],
   "source": [
    "a = [[\"Ram\",44,\"Dang\"],\n",
    "    [\"Hari\",22,\"Lalitpur\"],\n",
    "    [\"Shyam\",54,\"Bhaktapur\"]]\n",
    "del a[0]\n",
    "a"
   ]
  },
  {
   "cell_type": "markdown",
   "id": "b088d79e",
   "metadata": {},
   "source": []
  },
  {
   "cell_type": "code",
   "execution_count": 22,
   "id": "5a37651a",
   "metadata": {},
   "outputs": [
    {
     "name": "stdout",
     "output_type": "stream",
     "text": [
      "enter no. of list = 2\n",
      "Enter name = Ram\n",
      "Enter age = 22\n",
      "Enter address = Dang\n",
      "Enter name = Shyam\n",
      "Enter age = 43\n",
      "Enter address = Palpa\n",
      "[['Ram', 22, 'Dang'], ['Shyam', 43, 'Palpa']]\n"
     ]
    }
   ],
   "source": [
    "#WAP to create a list inside list\n",
    "data = []\n",
    "n = int(input(\"enter no. of list = \"))\n",
    "for i in range(n):\n",
    "    name = input(\"Enter name = \")\n",
    "    age = int(input(\"Enter age = \"))\n",
    "    add = input(\"Enter address = \")\n",
    "    info = [name,age,add]\n",
    "    data.append(info)\n",
    "print(data)\n",
    "    \n",
    "    \n",
    "    \n",
    "    "
   ]
  },
  {
   "cell_type": "code",
   "execution_count": 23,
   "id": "6451ac98",
   "metadata": {},
   "outputs": [
    {
     "data": {
      "text/plain": [
       "[['Ram', 44, 'Dang'],\n",
       " ['Hari', 22, 'Lalitpur'],\n",
       " ['Shyam', 54, 'Bhaktapur'],\n",
       " ['Sita', 21, 'Palpa']]"
      ]
     },
     "execution_count": 23,
     "metadata": {},
     "output_type": "execute_result"
    }
   ],
   "source": [
    "a = [[\"Ram\",44,\"Dang\"],\n",
    "    [\"Hari\",22,\"Lalitpur\"],\n",
    "    [\"Shyam\",54,\"Bhaktapur\"]]\n",
    "b = [[\"Sita\",21,'Palpa']]\n",
    "c = a+b\n",
    "c"
   ]
  },
  {
   "cell_type": "code",
   "execution_count": null,
   "id": "6d40f06d",
   "metadata": {},
   "outputs": [],
   "source": [
    "#WAP to create matrix with given row and column"
   ]
  }
 ],
 "metadata": {
  "kernelspec": {
   "display_name": "Python 3 (ipykernel)",
   "language": "python",
   "name": "python3"
  },
  "language_info": {
   "codemirror_mode": {
    "name": "ipython",
    "version": 3
   },
   "file_extension": ".py",
   "mimetype": "text/x-python",
   "name": "python",
   "nbconvert_exporter": "python",
   "pygments_lexer": "ipython3",
   "version": "3.9.12"
  }
 },
 "nbformat": 4,
 "nbformat_minor": 5
}
